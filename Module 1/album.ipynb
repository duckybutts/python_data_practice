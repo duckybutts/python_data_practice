{
 "cells": [
  {
   "cell_type": "markdown",
   "metadata": {},
   "source": [
    "Code for opening a file:\n",
    "\n",
    ".csv : files with comma separated values\n",
    "\n",
    "From the csv module we can use \"DictReader\" to read the contents. \n",
    "\n",
    "Once we are done using the file, close it. "
   ]
  },
  {
   "cell_type": "code",
   "execution_count": null,
   "metadata": {},
   "outputs": [],
   "source": [
    "import csv\n",
    "file = open(\"albumlist.csv\")\n",
    "reader = csv.DictReader(file)\n",
    "\n",
    "file.close()"
   ]
  },
  {
   "cell_type": "markdown",
   "metadata": {},
   "source": [
    "Alternatively, you can use a with statement to open, and then close it all in one step "
   ]
  },
  {
   "cell_type": "code",
   "execution_count": null,
   "metadata": {},
   "outputs": [],
   "source": [
    "import csv \n",
    "with open(\"albumlist.csv\") as file: \n",
    "    reader = csv.DictReader(file)"
   ]
  },
  {
   "cell_type": "markdown",
   "metadata": {},
   "source": [
    "A DictReader only lets you read over the values once because it doesn't store the values in memory. \n",
    "\n",
    "Best solution then, is that we need to reload the file each time we want to use the DictReader"
   ]
  },
  {
   "cell_type": "code",
   "execution_count": null,
   "metadata": {},
   "outputs": [],
   "source": [
    "import csv \n",
    "\n",
    "with open(\"albumlist.csv\", \"r\") as albumList: \n",
    "    reader = csv.DictReader(albumList) \n",
    "\n",
    "    print(type(reader)) # print the type\n",
    "    print(reader.fieldnames) # print the columns \n",
    "\n",
    "    for row in reader: # prints column name value for each\n",
    "        print(row)"
   ]
  },
  {
   "cell_type": "markdown",
   "metadata": {},
   "source": [
    "Best practice is just to use a for loop to print values"
   ]
  },
  {
   "cell_type": "markdown",
   "metadata": {},
   "source": []
  },
  {
   "cell_type": "code",
   "execution_count": null,
   "metadata": {},
   "outputs": [],
   "source": [
    "with open(\"albumlist.csv\", \"r\") as albumList: \n",
    "    reader = csv.DictReader(albumList)\n",
    "\n",
    "    rows = 100\n",
    "    for row in reader:\n",
    "        if (rows > 0): \n",
    "            print(row)\n",
    "            rows -= 1 \n",
    "        else : \n",
    "            rows -=1 \n",
    "            break; "
   ]
  },
  {
   "cell_type": "markdown",
   "metadata": {},
   "source": [
    "If we move all the elements into a list then we are able to access the data without having to use a DictReader each time. "
   ]
  },
  {
   "cell_type": "code",
   "execution_count": 14,
   "metadata": {},
   "outputs": [
    {
     "name": "stdout",
     "output_type": "stream",
     "text": [
      "Number of albums:  500\n"
     ]
    }
   ],
   "source": [
    "with open(\"albumlist.csv\", \"r\") as albumList: \n",
    "    reader = csv.DictReader(albumList)\n",
    "\n",
    "    albums = [] \n",
    "\n",
    "    for row in reader: \n",
    "        albums.append(row)\n",
    "\n",
    "    print(\"Number of albums: \", len(albums))\n"
   ]
  },
  {
   "cell_type": "markdown",
   "metadata": {},
   "source": [
    "List Comprehension: An elegant way to create a new list from a data structure. Do something for each iteration and add something to a new list. "
   ]
  },
  {
   "cell_type": "code",
   "execution_count": 17,
   "metadata": {},
   "outputs": [
    {
     "name": "stdout",
     "output_type": "stream",
     "text": [
      "Number of albums in 1974: 14\n"
     ]
    }
   ],
   "source": [
    "albums_1974 = [row for row in albums if row[\"Year\"] == \"1974\"]\n",
    "print(\"Number of albums in 1974:\", len(albums_1974))\n"
   ]
  },
  {
   "cell_type": "markdown",
   "metadata": {},
   "source": [
    "then we can just print the individual values. "
   ]
  },
  {
   "cell_type": "code",
   "execution_count": null,
   "metadata": {},
   "outputs": [],
   "source": [
    "for album in albums_1974:\n",
    "    print(album[\"Album\"], album[\"Artist\"])"
   ]
  },
  {
   "cell_type": "markdown",
   "metadata": {},
   "source": [
    "If we only want to list 10 of the items released in 1974. "
   ]
  },
  {
   "cell_type": "code",
   "execution_count": 20,
   "metadata": {},
   "outputs": [
    {
     "name": "stdout",
     "output_type": "stream",
     "text": [
      "10\n"
     ]
    }
   ],
   "source": [
    "tenVals = [row for row in albums_1974 [:10]]\n",
    "print(len(tenVals))"
   ]
  },
  {
   "cell_type": "markdown",
   "metadata": {},
   "source": [
    "Can also further specify which data is displayed"
   ]
  },
  {
   "cell_type": "code",
   "execution_count": null,
   "metadata": {},
   "outputs": [],
   "source": [
    "rockAlbums = [row for row in albums if row[\"Genre\"] == \"Rock\" \n",
    "and (\"Pop Rock\" in row[\"Subgenre\"] or \n",
    "\"Fushion\" in row[\"Subgenre\"] )]\n",
    "\n",
    "for album in rockAlbums: \n",
    "    print(album[\"Album\"], album[\"Artist\"], album[\"Genre\"], album[\"Subgenre\"])\n"
   ]
  },
  {
   "cell_type": "markdown",
   "metadata": {},
   "source": [
    "We can try to cast our values. \n",
    "\n",
    "If there is some error in the data where it can't be casted, we can just choose to ignore those values, by writing a function."
   ]
  },
  {
   "cell_type": "code",
   "execution_count": 34,
   "metadata": {},
   "outputs": [],
   "source": [
    "def isValidYear(string): \n",
    "    try: \n",
    "        year = int(string)\n",
    "    except ValueError:\n",
    "        return False # return false if there is a value error. \n",
    "    else: \n",
    "        return year > 1400 # otherwise just return the year itself"
   ]
  },
  {
   "cell_type": "code",
   "execution_count": null,
   "metadata": {},
   "outputs": [],
   "source": [
    "release_years = [int(row[\"Year\"]) for row in albums if (isValidYear(row[\"Year\"]))]\n",
    "\n",
    "print(release_years)"
   ]
  },
  {
   "cell_type": "code",
   "execution_count": null,
   "metadata": {},
   "outputs": [],
   "source": [
    "minDate = min(release_years)\n",
    "print(minDate)"
   ]
  },
  {
   "cell_type": "markdown",
   "metadata": {},
   "source": [
    "A lambda function is a one-line function defined on the fly. It can be used anywhere a function required. (Anonymous Function)\n",
    "\n",
    "double_l = lamda x: x * 2 \n",
    "\n",
    "They are best used as arguments to other function ie. \n",
    "\n",
    "    sorted(list, key)\n",
    "\n",
    "We can write a lambda function in key which tells specifies a sorting function. "
   ]
  },
  {
   "cell_type": "code",
   "execution_count": null,
   "metadata": {},
   "outputs": [],
   "source": [
    "albumsSorted = sorted(albums, key = lambda x:[\"Artist\"])\n",
    "print(albumsSorted)"
   ]
  },
  {
   "cell_type": "markdown",
   "metadata": {},
   "source": [
    "Other functions that accept lambda functions as arguments are max(list,key) and min(list,key), which just like in sorted() specify what we are sorting by."
   ]
  },
  {
   "cell_type": "code",
   "execution_count": 42,
   "metadata": {},
   "outputs": [
    {
     "name": "stdout",
     "output_type": "stream",
     "text": [
      "The Smile Sessions The Beach Boys 2011\n"
     ]
    }
   ],
   "source": [
    "mostRecent = max(([row for row in albums if isValidYear(row[\"Year\"])]), \n",
    "key = lambda x: x[\"Year\"])\n",
    "print(mostRecent[\"Album\"], mostRecent[\"Artist\"], mostRecent[\"Year\"])\n"
   ]
  }
 ],
 "metadata": {
  "kernelspec": {
   "display_name": "Python 3.12.5 64-bit",
   "language": "python",
   "name": "python3"
  },
  "language_info": {
   "codemirror_mode": {
    "name": "ipython",
    "version": 3
   },
   "file_extension": ".py",
   "mimetype": "text/x-python",
   "name": "python",
   "nbconvert_exporter": "python",
   "pygments_lexer": "ipython3",
   "version": "3.12.5"
  },
  "orig_nbformat": 4,
  "vscode": {
   "interpreter": {
    "hash": "b0fa6594d8f4cbf19f97940f81e996739fb7646882a419484c72d19e05852a7e"
   }
  }
 },
 "nbformat": 4,
 "nbformat_minor": 2
}
